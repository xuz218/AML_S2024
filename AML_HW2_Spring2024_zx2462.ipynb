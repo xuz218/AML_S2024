{
  "nbformat": 4,
  "nbformat_minor": 0,
  "metadata": {
    "colab": {
      "provenance": []
    },
    "kernelspec": {
      "name": "python3",
      "display_name": "Python 3"
    },
    "language_info": {
      "name": "python"
    }
  },
  "cells": [
    {
      "cell_type": "markdown",
      "source": [
        "## Homework 2: Trees and Calibration\n",
        "### Instructions:\n",
        "Please upload the .ipynb, .pdf to Github prior to the deadline. Please include your UNI as well.\n",
        "\n",
        "Make sure to use the dataset that we provide in CourseWorks/Classroom.\n",
        "\n",
        "There are a lot of applied questions based on the code results. Please make sure to answer them all. These are primarily to test your understanding of the results your code generate (similar to any Data Science/ML case study interviews)."
      ],
      "metadata": {
        "id": "PmmINRw92NZ7"
      }
    },
    {
      "cell_type": "markdown",
      "source": [
        "## Name:  \n",
        "### Ziang Xu\n",
        "## UNI:\n",
        "### zx2462"
      ],
      "metadata": {
        "id": "Paj_32xL2fBV"
      }
    },
    {
      "cell_type": "markdown",
      "source": [
        "## The Dataset\n",
        "\n",
        "\n",
        "### Description\n",
        "\n",
        "The Diabetes Dataset comprises medical data from 768 female patients of Pima Indian heritage, including 8 health-related features and a binary target indicating the presence or absence of diabetes.\n"
      ],
      "metadata": {
        "id": "8F3SYLuF2zk6"
      }
    },
    {
      "cell_type": "code",
      "source": [
        "import warnings\n",
        "warnings.filterwarnings(\"ignore\")\n",
        "\n",
        "import numpy as np\n",
        "import pandas as pd\n",
        "import matplotlib.pyplot as plt\n",
        "import seaborn as sns\n",
        "from sklearn.model_selection import train_test_split\n",
        "from sklearn.preprocessing import StandardScaler, MinMaxScaler\n",
        "from sklearn.preprocessing import OrdinalEncoder"
      ],
      "metadata": {
        "id": "K4qKRFeR4x9t"
      },
      "execution_count": 3,
      "outputs": []
    },
    {
      "cell_type": "markdown",
      "source": [
        "## Question 1: Decision Trees"
      ],
      "metadata": {
        "id": "9gNer0Ey5ERR"
      }
    },
    {
      "cell_type": "markdown",
      "source": [
        "**1.1: Load the provided dataset**"
      ],
      "metadata": {
        "id": "spGKpLA65Isu"
      }
    },
    {
      "cell_type": "code",
      "source": [
        "## YOUR CODE HERE\n",
        "diabetes_df = pd.read_csv(\"diabetes.csv\")\n",
        "diabetes_df.head()"
      ],
      "metadata": {
        "id": "3KuFin5A5HIE",
        "colab": {
          "base_uri": "https://localhost:8080/",
          "height": 206
        },
        "outputId": "97ab41ba-44af-4188-dd54-17b6cc6ae490"
      },
      "execution_count": 4,
      "outputs": [
        {
          "output_type": "execute_result",
          "data": {
            "text/plain": [
              "   Pregnancies  Glucose  BloodPressure  SkinThickness  Insulin   BMI  \\\n",
              "0            6      148             72             35        0  33.6   \n",
              "1            1       85             66             29        0  26.6   \n",
              "2            8      183             64              0        0  23.3   \n",
              "3            1       89             66             23       94  28.1   \n",
              "4            0      137             40             35      168  43.1   \n",
              "\n",
              "   DiabetesPedigreeFunction  Age  Outcome  \n",
              "0                     0.627   50        1  \n",
              "1                     0.351   31        0  \n",
              "2                     0.672   32        1  \n",
              "3                     0.167   21        0  \n",
              "4                     2.288   33        1  "
            ],
            "text/html": [
              "\n",
              "  <div id=\"df-5008eacb-1ea5-4a8d-bdf0-0bc932cf35a1\" class=\"colab-df-container\">\n",
              "    <div>\n",
              "<style scoped>\n",
              "    .dataframe tbody tr th:only-of-type {\n",
              "        vertical-align: middle;\n",
              "    }\n",
              "\n",
              "    .dataframe tbody tr th {\n",
              "        vertical-align: top;\n",
              "    }\n",
              "\n",
              "    .dataframe thead th {\n",
              "        text-align: right;\n",
              "    }\n",
              "</style>\n",
              "<table border=\"1\" class=\"dataframe\">\n",
              "  <thead>\n",
              "    <tr style=\"text-align: right;\">\n",
              "      <th></th>\n",
              "      <th>Pregnancies</th>\n",
              "      <th>Glucose</th>\n",
              "      <th>BloodPressure</th>\n",
              "      <th>SkinThickness</th>\n",
              "      <th>Insulin</th>\n",
              "      <th>BMI</th>\n",
              "      <th>DiabetesPedigreeFunction</th>\n",
              "      <th>Age</th>\n",
              "      <th>Outcome</th>\n",
              "    </tr>\n",
              "  </thead>\n",
              "  <tbody>\n",
              "    <tr>\n",
              "      <th>0</th>\n",
              "      <td>6</td>\n",
              "      <td>148</td>\n",
              "      <td>72</td>\n",
              "      <td>35</td>\n",
              "      <td>0</td>\n",
              "      <td>33.6</td>\n",
              "      <td>0.627</td>\n",
              "      <td>50</td>\n",
              "      <td>1</td>\n",
              "    </tr>\n",
              "    <tr>\n",
              "      <th>1</th>\n",
              "      <td>1</td>\n",
              "      <td>85</td>\n",
              "      <td>66</td>\n",
              "      <td>29</td>\n",
              "      <td>0</td>\n",
              "      <td>26.6</td>\n",
              "      <td>0.351</td>\n",
              "      <td>31</td>\n",
              "      <td>0</td>\n",
              "    </tr>\n",
              "    <tr>\n",
              "      <th>2</th>\n",
              "      <td>8</td>\n",
              "      <td>183</td>\n",
              "      <td>64</td>\n",
              "      <td>0</td>\n",
              "      <td>0</td>\n",
              "      <td>23.3</td>\n",
              "      <td>0.672</td>\n",
              "      <td>32</td>\n",
              "      <td>1</td>\n",
              "    </tr>\n",
              "    <tr>\n",
              "      <th>3</th>\n",
              "      <td>1</td>\n",
              "      <td>89</td>\n",
              "      <td>66</td>\n",
              "      <td>23</td>\n",
              "      <td>94</td>\n",
              "      <td>28.1</td>\n",
              "      <td>0.167</td>\n",
              "      <td>21</td>\n",
              "      <td>0</td>\n",
              "    </tr>\n",
              "    <tr>\n",
              "      <th>4</th>\n",
              "      <td>0</td>\n",
              "      <td>137</td>\n",
              "      <td>40</td>\n",
              "      <td>35</td>\n",
              "      <td>168</td>\n",
              "      <td>43.1</td>\n",
              "      <td>2.288</td>\n",
              "      <td>33</td>\n",
              "      <td>1</td>\n",
              "    </tr>\n",
              "  </tbody>\n",
              "</table>\n",
              "</div>\n",
              "    <div class=\"colab-df-buttons\">\n",
              "\n",
              "  <div class=\"colab-df-container\">\n",
              "    <button class=\"colab-df-convert\" onclick=\"convertToInteractive('df-5008eacb-1ea5-4a8d-bdf0-0bc932cf35a1')\"\n",
              "            title=\"Convert this dataframe to an interactive table.\"\n",
              "            style=\"display:none;\">\n",
              "\n",
              "  <svg xmlns=\"http://www.w3.org/2000/svg\" height=\"24px\" viewBox=\"0 -960 960 960\">\n",
              "    <path d=\"M120-120v-720h720v720H120Zm60-500h600v-160H180v160Zm220 220h160v-160H400v160Zm0 220h160v-160H400v160ZM180-400h160v-160H180v160Zm440 0h160v-160H620v160ZM180-180h160v-160H180v160Zm440 0h160v-160H620v160Z\"/>\n",
              "  </svg>\n",
              "    </button>\n",
              "\n",
              "  <style>\n",
              "    .colab-df-container {\n",
              "      display:flex;\n",
              "      gap: 12px;\n",
              "    }\n",
              "\n",
              "    .colab-df-convert {\n",
              "      background-color: #E8F0FE;\n",
              "      border: none;\n",
              "      border-radius: 50%;\n",
              "      cursor: pointer;\n",
              "      display: none;\n",
              "      fill: #1967D2;\n",
              "      height: 32px;\n",
              "      padding: 0 0 0 0;\n",
              "      width: 32px;\n",
              "    }\n",
              "\n",
              "    .colab-df-convert:hover {\n",
              "      background-color: #E2EBFA;\n",
              "      box-shadow: 0px 1px 2px rgba(60, 64, 67, 0.3), 0px 1px 3px 1px rgba(60, 64, 67, 0.15);\n",
              "      fill: #174EA6;\n",
              "    }\n",
              "\n",
              "    .colab-df-buttons div {\n",
              "      margin-bottom: 4px;\n",
              "    }\n",
              "\n",
              "    [theme=dark] .colab-df-convert {\n",
              "      background-color: #3B4455;\n",
              "      fill: #D2E3FC;\n",
              "    }\n",
              "\n",
              "    [theme=dark] .colab-df-convert:hover {\n",
              "      background-color: #434B5C;\n",
              "      box-shadow: 0px 1px 3px 1px rgba(0, 0, 0, 0.15);\n",
              "      filter: drop-shadow(0px 1px 2px rgba(0, 0, 0, 0.3));\n",
              "      fill: #FFFFFF;\n",
              "    }\n",
              "  </style>\n",
              "\n",
              "    <script>\n",
              "      const buttonEl =\n",
              "        document.querySelector('#df-5008eacb-1ea5-4a8d-bdf0-0bc932cf35a1 button.colab-df-convert');\n",
              "      buttonEl.style.display =\n",
              "        google.colab.kernel.accessAllowed ? 'block' : 'none';\n",
              "\n",
              "      async function convertToInteractive(key) {\n",
              "        const element = document.querySelector('#df-5008eacb-1ea5-4a8d-bdf0-0bc932cf35a1');\n",
              "        const dataTable =\n",
              "          await google.colab.kernel.invokeFunction('convertToInteractive',\n",
              "                                                    [key], {});\n",
              "        if (!dataTable) return;\n",
              "\n",
              "        const docLinkHtml = 'Like what you see? Visit the ' +\n",
              "          '<a target=\"_blank\" href=https://colab.research.google.com/notebooks/data_table.ipynb>data table notebook</a>'\n",
              "          + ' to learn more about interactive tables.';\n",
              "        element.innerHTML = '';\n",
              "        dataTable['output_type'] = 'display_data';\n",
              "        await google.colab.output.renderOutput(dataTable, element);\n",
              "        const docLink = document.createElement('div');\n",
              "        docLink.innerHTML = docLinkHtml;\n",
              "        element.appendChild(docLink);\n",
              "      }\n",
              "    </script>\n",
              "  </div>\n",
              "\n",
              "\n",
              "<div id=\"df-5389c0af-f0b4-4614-b7b0-507a2caf6b5f\">\n",
              "  <button class=\"colab-df-quickchart\" onclick=\"quickchart('df-5389c0af-f0b4-4614-b7b0-507a2caf6b5f')\"\n",
              "            title=\"Suggest charts\"\n",
              "            style=\"display:none;\">\n",
              "\n",
              "<svg xmlns=\"http://www.w3.org/2000/svg\" height=\"24px\"viewBox=\"0 0 24 24\"\n",
              "     width=\"24px\">\n",
              "    <g>\n",
              "        <path d=\"M19 3H5c-1.1 0-2 .9-2 2v14c0 1.1.9 2 2 2h14c1.1 0 2-.9 2-2V5c0-1.1-.9-2-2-2zM9 17H7v-7h2v7zm4 0h-2V7h2v10zm4 0h-2v-4h2v4z\"/>\n",
              "    </g>\n",
              "</svg>\n",
              "  </button>\n",
              "\n",
              "<style>\n",
              "  .colab-df-quickchart {\n",
              "      --bg-color: #E8F0FE;\n",
              "      --fill-color: #1967D2;\n",
              "      --hover-bg-color: #E2EBFA;\n",
              "      --hover-fill-color: #174EA6;\n",
              "      --disabled-fill-color: #AAA;\n",
              "      --disabled-bg-color: #DDD;\n",
              "  }\n",
              "\n",
              "  [theme=dark] .colab-df-quickchart {\n",
              "      --bg-color: #3B4455;\n",
              "      --fill-color: #D2E3FC;\n",
              "      --hover-bg-color: #434B5C;\n",
              "      --hover-fill-color: #FFFFFF;\n",
              "      --disabled-bg-color: #3B4455;\n",
              "      --disabled-fill-color: #666;\n",
              "  }\n",
              "\n",
              "  .colab-df-quickchart {\n",
              "    background-color: var(--bg-color);\n",
              "    border: none;\n",
              "    border-radius: 50%;\n",
              "    cursor: pointer;\n",
              "    display: none;\n",
              "    fill: var(--fill-color);\n",
              "    height: 32px;\n",
              "    padding: 0;\n",
              "    width: 32px;\n",
              "  }\n",
              "\n",
              "  .colab-df-quickchart:hover {\n",
              "    background-color: var(--hover-bg-color);\n",
              "    box-shadow: 0 1px 2px rgba(60, 64, 67, 0.3), 0 1px 3px 1px rgba(60, 64, 67, 0.15);\n",
              "    fill: var(--button-hover-fill-color);\n",
              "  }\n",
              "\n",
              "  .colab-df-quickchart-complete:disabled,\n",
              "  .colab-df-quickchart-complete:disabled:hover {\n",
              "    background-color: var(--disabled-bg-color);\n",
              "    fill: var(--disabled-fill-color);\n",
              "    box-shadow: none;\n",
              "  }\n",
              "\n",
              "  .colab-df-spinner {\n",
              "    border: 2px solid var(--fill-color);\n",
              "    border-color: transparent;\n",
              "    border-bottom-color: var(--fill-color);\n",
              "    animation:\n",
              "      spin 1s steps(1) infinite;\n",
              "  }\n",
              "\n",
              "  @keyframes spin {\n",
              "    0% {\n",
              "      border-color: transparent;\n",
              "      border-bottom-color: var(--fill-color);\n",
              "      border-left-color: var(--fill-color);\n",
              "    }\n",
              "    20% {\n",
              "      border-color: transparent;\n",
              "      border-left-color: var(--fill-color);\n",
              "      border-top-color: var(--fill-color);\n",
              "    }\n",
              "    30% {\n",
              "      border-color: transparent;\n",
              "      border-left-color: var(--fill-color);\n",
              "      border-top-color: var(--fill-color);\n",
              "      border-right-color: var(--fill-color);\n",
              "    }\n",
              "    40% {\n",
              "      border-color: transparent;\n",
              "      border-right-color: var(--fill-color);\n",
              "      border-top-color: var(--fill-color);\n",
              "    }\n",
              "    60% {\n",
              "      border-color: transparent;\n",
              "      border-right-color: var(--fill-color);\n",
              "    }\n",
              "    80% {\n",
              "      border-color: transparent;\n",
              "      border-right-color: var(--fill-color);\n",
              "      border-bottom-color: var(--fill-color);\n",
              "    }\n",
              "    90% {\n",
              "      border-color: transparent;\n",
              "      border-bottom-color: var(--fill-color);\n",
              "    }\n",
              "  }\n",
              "</style>\n",
              "\n",
              "  <script>\n",
              "    async function quickchart(key) {\n",
              "      const quickchartButtonEl =\n",
              "        document.querySelector('#' + key + ' button');\n",
              "      quickchartButtonEl.disabled = true;  // To prevent multiple clicks.\n",
              "      quickchartButtonEl.classList.add('colab-df-spinner');\n",
              "      try {\n",
              "        const charts = await google.colab.kernel.invokeFunction(\n",
              "            'suggestCharts', [key], {});\n",
              "      } catch (error) {\n",
              "        console.error('Error during call to suggestCharts:', error);\n",
              "      }\n",
              "      quickchartButtonEl.classList.remove('colab-df-spinner');\n",
              "      quickchartButtonEl.classList.add('colab-df-quickchart-complete');\n",
              "    }\n",
              "    (() => {\n",
              "      let quickchartButtonEl =\n",
              "        document.querySelector('#df-5389c0af-f0b4-4614-b7b0-507a2caf6b5f button');\n",
              "      quickchartButtonEl.style.display =\n",
              "        google.colab.kernel.accessAllowed ? 'block' : 'none';\n",
              "    })();\n",
              "  </script>\n",
              "</div>\n",
              "    </div>\n",
              "  </div>\n"
            ],
            "application/vnd.google.colaboratory.intrinsic+json": {
              "type": "dataframe",
              "variable_name": "diabetes_df",
              "summary": "{\n  \"name\": \"diabetes_df\",\n  \"rows\": 768,\n  \"fields\": [\n    {\n      \"column\": \"Pregnancies\",\n      \"properties\": {\n        \"dtype\": \"number\",\n        \"std\": 3,\n        \"min\": 0,\n        \"max\": 17,\n        \"num_unique_values\": 17,\n        \"samples\": [\n          6,\n          1,\n          3\n        ],\n        \"semantic_type\": \"\",\n        \"description\": \"\"\n      }\n    },\n    {\n      \"column\": \"Glucose\",\n      \"properties\": {\n        \"dtype\": \"number\",\n        \"std\": 31,\n        \"min\": 0,\n        \"max\": 199,\n        \"num_unique_values\": 136,\n        \"samples\": [\n          151,\n          101,\n          112\n        ],\n        \"semantic_type\": \"\",\n        \"description\": \"\"\n      }\n    },\n    {\n      \"column\": \"BloodPressure\",\n      \"properties\": {\n        \"dtype\": \"number\",\n        \"std\": 19,\n        \"min\": 0,\n        \"max\": 122,\n        \"num_unique_values\": 47,\n        \"samples\": [\n          86,\n          46,\n          85\n        ],\n        \"semantic_type\": \"\",\n        \"description\": \"\"\n      }\n    },\n    {\n      \"column\": \"SkinThickness\",\n      \"properties\": {\n        \"dtype\": \"number\",\n        \"std\": 15,\n        \"min\": 0,\n        \"max\": 99,\n        \"num_unique_values\": 51,\n        \"samples\": [\n          7,\n          12,\n          48\n        ],\n        \"semantic_type\": \"\",\n        \"description\": \"\"\n      }\n    },\n    {\n      \"column\": \"Insulin\",\n      \"properties\": {\n        \"dtype\": \"number\",\n        \"std\": 115,\n        \"min\": 0,\n        \"max\": 846,\n        \"num_unique_values\": 186,\n        \"samples\": [\n          52,\n          41,\n          183\n        ],\n        \"semantic_type\": \"\",\n        \"description\": \"\"\n      }\n    },\n    {\n      \"column\": \"BMI\",\n      \"properties\": {\n        \"dtype\": \"number\",\n        \"std\": 7.884160320375446,\n        \"min\": 0.0,\n        \"max\": 67.1,\n        \"num_unique_values\": 248,\n        \"samples\": [\n          19.9,\n          31.0,\n          38.1\n        ],\n        \"semantic_type\": \"\",\n        \"description\": \"\"\n      }\n    },\n    {\n      \"column\": \"DiabetesPedigreeFunction\",\n      \"properties\": {\n        \"dtype\": \"number\",\n        \"std\": 0.3313285950127749,\n        \"min\": 0.078,\n        \"max\": 2.42,\n        \"num_unique_values\": 517,\n        \"samples\": [\n          1.731,\n          0.426,\n          0.138\n        ],\n        \"semantic_type\": \"\",\n        \"description\": \"\"\n      }\n    },\n    {\n      \"column\": \"Age\",\n      \"properties\": {\n        \"dtype\": \"number\",\n        \"std\": 11,\n        \"min\": 21,\n        \"max\": 81,\n        \"num_unique_values\": 52,\n        \"samples\": [\n          60,\n          47,\n          72\n        ],\n        \"semantic_type\": \"\",\n        \"description\": \"\"\n      }\n    },\n    {\n      \"column\": \"Outcome\",\n      \"properties\": {\n        \"dtype\": \"number\",\n        \"std\": 0,\n        \"min\": 0,\n        \"max\": 1,\n        \"num_unique_values\": 2,\n        \"samples\": [\n          0,\n          1\n        ],\n        \"semantic_type\": \"\",\n        \"description\": \"\"\n      }\n    }\n  ]\n}"
            }
          },
          "metadata": {},
          "execution_count": 4
        }
      ]
    },
    {
      "cell_type": "markdown",
      "source": [
        "**1.2: How many instances are there in the dataset for each class (diabetic and non-diabetic patients)? What does this tell you about the balance of the dataset?**"
      ],
      "metadata": {
        "id": "fvwrl_RH5SAS"
      }
    },
    {
      "cell_type": "code",
      "source": [
        "## YOUR CODE HERE\n",
        "counts = diabetes_df['Outcome'].value_counts()\n",
        "ax = counts.plot(kind='bar', color=['#8CB9BD', '#ECB159'])\n",
        "ax.set_ylabel(\"Instances num\")\n",
        "ax.set_xticklabels(['Non-diabetic', 'Diabetic'])\n",
        "ax.tick_params(axis='x', rotation=0)\n",
        "\n",
        "\"\"\"\n",
        "Comment:\n",
        "Based on the histograms, it appears that the outcome seems to\n",
        "be quite unbalanced (many more 0s than 1s).\n",
        "\"\"\""
      ],
      "metadata": {
        "id": "M8mVUEW13LJt",
        "colab": {
          "base_uri": "https://localhost:8080/",
          "height": 448
        },
        "outputId": "0cf4fdfb-df4e-4671-bc67-0762695f1ddf"
      },
      "execution_count": 5,
      "outputs": [
        {
          "output_type": "execute_result",
          "data": {
            "text/plain": [
              "'\\nComment:\\nBased on the histograms, it appears that the outcome seems to\\nbe quite unbalanced (many more 0s than 1s).\\n'"
            ],
            "application/vnd.google.colaboratory.intrinsic+json": {
              "type": "string"
            }
          },
          "metadata": {},
          "execution_count": 5
        },
        {
          "output_type": "display_data",
          "data": {
            "text/plain": [
              "<Figure size 640x480 with 1 Axes>"
            ],
            "image/png": "[encoded data removed]"
          },
          "metadata": {}
        }
      ]
    },
    {
      "cell_type": "markdown",
      "source": [
        "**1.3: Are there any missing values in the dataset? If so, how will you handle them?**"
      ],
      "metadata": {
        "id": "Kivt__ZW5wIB"
      }
    },
    {
      "cell_type": "code",
      "source": [
        "## YOUR CODE HERE\n",
        "nans = diabetes_df.isna().sum()\n",
        "print(nans)\n",
        "# No missing values"
      ],
      "metadata": {
        "id": "D9_Wqbtw5q5d",
        "colab": {
          "base_uri": "https://localhost:8080/"
        },
        "outputId": "843ce1e2-7fc9-42cb-f00c-89793c7402f6"
      },
      "execution_count": 6,
      "outputs": [
        {
          "output_type": "stream",
          "name": "stdout",
          "text": [
            "Pregnancies                 0\n",
            "Glucose                     0\n",
            "BloodPressure               0\n",
            "SkinThickness               0\n",
            "Insulin                     0\n",
            "BMI                         0\n",
            "DiabetesPedigreeFunction    0\n",
            "Age                         0\n",
            "Outcome                     0\n",
            "dtype: int64\n"
          ]
        }
      ]
    },
    {
      "cell_type": "markdown",
      "source": [
        "**1.4: Split the data into development and test datasets. Which splitting methodology did you choose and why?**\n",
        "\n",
        "**Hint: Based on the distribution of the data, try to use the best splitting strategy."
      ],
      "metadata": {
        "id": "tde1cAL451-9"
      }
    },
    {
      "cell_type": "code",
      "source": [
        "## YOUR CODE HERE\n",
        "features = diabetes_df.columns\n",
        "n_cols, n_rows = 3, 3\n",
        "\n",
        "fig, ax = plt.subplots(n_rows, n_cols, figsize=(18, n_rows*3.5))\n",
        "fig.subplots_adjust(hspace=0.4, wspace=0.4)\n",
        "ax = ax.flatten()\n",
        "\n",
        "for i, feature in enumerate(features):\n",
        "    sns.histplot(diabetes_df[feature], kde=False, color='#436850', edgecolor='black', ax=ax[i])\n",
        "    ax[i].set_title(f'Distribution of {feature}')\n",
        "    ax[i].set_xlabel(feature)\n",
        "    ax[i].set_ylabel('Density')\n",
        "\n",
        "plt.tight_layout()\n",
        "plt.show()\n",
        "\n",
        "diabetes_y = diabetes_df['Outcome']\n",
        "diabetes_X = diabetes_df.drop(columns=['Outcome'])\n",
        "X_dev, X_test, y_dev, y_test = train_test_split(diabetes_X, diabetes_y, test_size=0.2, stratify=diabetes_y, random_state=10)\n",
        "\n",
        "\n",
        "# Comment:\n",
        "# Based on the histograms, it appears that the outcome seems to\n",
        "# be quite unbalanced (many more 0s than 1s). Therefore, a Stratified Split\n",
        "# would be the best option, as it would maintain the distribution of\n",
        "# the outcome variable across both datasets."
      ],
      "metadata": {
        "id": "1jsR9wdG6CmC",
        "colab": {
          "base_uri": "https://localhost:8080/",
          "height": 838
        },
        "outputId": "789063db-6d59-45cb-ccdf-fb4ed602286c"
      },
      "execution_count": 7,
      "outputs": [
        {
          "output_type": "display_data",
          "data": {
            "text/plain": [
              "<Figure size 1800x1050 with 9 Axes>"
            ],
            "image/png": "[encoded data removed]"
          },
          "metadata": {}
        }
      ]
    },
    {
      "cell_type": "markdown",
      "source": [
        "**1.5: Build a decision tree classifier to predict the onset of diabetes. What criterion (e.g., Gini impurity, entropy) did you choose for splitting, and why?**"
      ],
      "metadata": {
        "id": "cg5UnTg_6Bxm"
      }
    },
    {
      "cell_type": "code",
      "source": [
        "## YOUR CODE HERE\n",
        "from sklearn.tree import DecisionTreeClassifier\n",
        "from sklearn.metrics import accuracy_score, precision_score, recall_score, f1_score\n",
        "\n",
        "tree_gini = DecisionTreeClassifier(random_state=10)\n",
        "tree_entropy = DecisionTreeClassifier(criterion='entropy', random_state=10)\n",
        "\n",
        "tree_gini.fit(X_dev, y_dev)\n",
        "tree_entropy.fit(X_dev, y_dev)\n",
        "y_pred_gini_dev = tree_gini.predict(X_dev)\n",
        "y_pred_gini_test = tree_gini.predict(X_test)\n",
        "y_pred_entropy_dev = tree_entropy.predict(X_dev)\n",
        "y_pred_entropy_test = tree_entropy.predict(X_test)\n",
        "\n",
        "accuracy_gini_1 = accuracy_score(y_dev, y_pred_gini_dev)\n",
        "accuracy_gini_2 = accuracy_score(y_test, y_pred_gini_test)\n",
        "accuracy_entropy_1 = accuracy_score(y_dev, y_pred_entropy_dev)\n",
        "accuracy_entropy_2 = accuracy_score(y_test, y_pred_entropy_test)\n",
        "print(f\"Gini accuracy on development dataset: {accuracy_gini_1}\")\n",
        "print(f\"Gini accuracy on test dataset: {accuracy_gini_2}\")\n",
        "print(f\"Entropy accuracy on development dataset: {accuracy_entropy_1}\")\n",
        "print(f\"Entropy accuracy on test dataset: {accuracy_entropy_2}\")\n",
        "\n",
        "\n",
        "# Comment:\n",
        "# I would choose entropy for splitting since it has better accuracy score\n",
        "# than the gini method based on the results of test dataset.\n"
      ],
      "metadata": {
        "id": "H8U2azY551Qg",
        "colab": {
          "base_uri": "https://localhost:8080/"
        },
        "outputId": "3506a55c-b544-406a-ee03-f724e8a82395"
      },
      "execution_count": 8,
      "outputs": [
        {
          "output_type": "stream",
          "name": "stdout",
          "text": [
            "Gini accuracy on development dataset: 1.0\n",
            "Gini accuracy on test dataset: 0.6428571428571429\n",
            "Entropy accuracy on development dataset: 1.0\n",
            "Entropy accuracy on test dataset: 0.6948051948051948\n"
          ]
        }
      ]
    },
    {
      "cell_type": "markdown",
      "source": [
        "**1.6: Evaluate your model using accuracy, precision, recall, and F1-score. What do these metrics reveal about your model's performance?**"
      ],
      "metadata": {
        "id": "iqMP3tIT6Orb"
      }
    },
    {
      "cell_type": "code",
      "source": [
        "## YOUR CODE HERE\n",
        "test_precision = precision_score(y_test, y_pred_entropy_test)\n",
        "test_recall = recall_score(y_test, y_pred_entropy_test)\n",
        "test_f1_score = f1_score(y_test, y_pred_entropy_test)\n",
        "\n",
        "print(\"Test Accuracy:\", accuracy_entropy_2)\n",
        "print(\"Test Precision:\", test_precision)\n",
        "print(\"Test Recall Score:\", test_recall)\n",
        "print(\"Test F1-Score:\", test_f1_score)\n",
        "\n",
        "# Both the accurracy and the precision is reletively low for the classifier\n",
        "# on the test dataset. The low precision and recall suggest that this model\n",
        "# is missing a significant number of cases (false positives and false negatives)."
      ],
      "metadata": {
        "id": "rUmMtpQM50xM",
        "colab": {
          "base_uri": "https://localhost:8080/"
        },
        "outputId": "15a540ee-2a22-41c2-c08a-ae2062be2c02"
      },
      "execution_count": 9,
      "outputs": [
        {
          "output_type": "stream",
          "name": "stdout",
          "text": [
            "Test Accuracy: 0.6948051948051948\n",
            "Test Precision: 0.5636363636363636\n",
            "Test Recall Score: 0.5740740740740741\n",
            "Test F1-Score: 0.5688073394495413\n"
          ]
        }
      ]
    },
    {
      "cell_type": "markdown",
      "source": [
        "**1.8: List the top 3 most important features for this trained tree? How would you justify these features being the most important?**"
      ],
      "metadata": {
        "id": "DxTDRJqj6gfn"
      }
    },
    {
      "cell_type": "code",
      "source": [
        "importances = tree_entropy.feature_importances_\n",
        "indices = np.argsort(importances)[::-1]\n",
        "\n",
        "print(\"Feature ranking:\")\n",
        "feature_names = diabetes_X.columns.tolist()\n",
        "top_features = [feature_names[i] for i in indices[:3]]\n",
        "print(\"Top 3 important features:\", top_features)\n",
        "\n",
        "plt.figure(figsize=(6, 3))\n",
        "ax = sns.barplot(x=top_features, y=importances[list(indices)[:3]])\n",
        "plt.xticks(rotation=90)\n",
        "plt.show()\n",
        "\n",
        "# \"feature_importances_\" is provided by the classifier, and we can sort the scores\n",
        "# to get the top three most important features."
      ],
      "metadata": {
        "colab": {
          "base_uri": "https://localhost:8080/",
          "height": 368
        },
        "id": "NPF7HrZ0fSII",
        "outputId": "9a7e2622-f1b4-41ec-bc53-0916b7bde614"
      },
      "execution_count": 10,
      "outputs": [
        {
          "output_type": "stream",
          "name": "stdout",
          "text": [
            "Feature ranking:\n",
            "Top 3 important features: ['Glucose', 'BMI', 'Age']\n"
          ]
        },
        {
          "output_type": "display_data",
          "data": {
            "text/plain": [
              "<Figure size 600x300 with 1 Axes>"
            ],
            "image/png": "[encoded data removed]"
          },
          "metadata": {}
        }
      ]
    },
    {
      "cell_type": "markdown",
      "source": [
        "## Question 2: Random Forests"
      ],
      "metadata": {
        "id": "lFZzklLK6oqx"
      }
    },
    {
      "cell_type": "markdown",
      "source": [
        "**2.1: Train a Random Forest model on the development dataset using RandomForestClassifier class in sklearn. Use the default parameters. Evaluate the performance of the model on test dataset. Does this perform better than Decision Tree on the test dataset**"
      ],
      "metadata": {
        "id": "lGedQ_QL6sNB"
      }
    },
    {
      "cell_type": "code",
      "source": [
        "## YOUR CODE HERE\n",
        "from sklearn.ensemble import RandomForestClassifier\n",
        "\n",
        "X_dev, X_test, y_dev, y_test = train_test_split(diabetes_X, diabetes_y, test_size=0.2, stratify=diabetes_y, random_state=10)\n",
        "random_forest_model = RandomForestClassifier()\n",
        "random_forest_model.fit(X_dev, y_dev)\n",
        "y_test_pred = random_forest_model.predict(X_test)\n",
        "\n",
        "accuracy_score = accuracy_score(y_test, y_test_pred)\n",
        "f1_score = f1_score(y_test, y_test_pred)\n",
        "precision = precision_score(y_test, y_test_pred)\n",
        "recall = recall_score(y_test, y_test_pred)\n",
        "\n",
        "print(\"Test Accuracy:\", accuracy_score)\n",
        "print(\"Test Precision:\", precision)\n",
        "print(\"Test Recall Score:\", recall)\n",
        "print(\"Test F1-Score:\", f1_score)\n",
        "\n",
        "# Yes, it performs much better than the decision tree model."
      ],
      "metadata": {
        "id": "Mf0Qbl1u6f5O",
        "colab": {
          "base_uri": "https://localhost:8080/"
        },
        "outputId": "496429b1-f667-40d7-f65b-3de7c22b442f"
      },
      "execution_count": 11,
      "outputs": [
        {
          "output_type": "stream",
          "name": "stdout",
          "text": [
            "Test Accuracy: 0.7792207792207793\n",
            "Test Precision: 0.6851851851851852\n",
            "Test Recall Score: 0.6851851851851852\n",
            "Test F1-Score: 0.6851851851851852\n"
          ]
        }
      ]
    },
    {
      "cell_type": "markdown",
      "source": [
        "**2.2 Does all trees in the trained random forest model have pure leaves? How would you verify this?**"
      ],
      "metadata": {
        "id": "qIiSQKS87D6j"
      }
    },
    {
      "cell_type": "code",
      "source": [
        "from sklearn.tree import _tree\n",
        "pure_flag = True\n",
        "\n",
        "for tree in random_forest_model.estimators_:\n",
        "    impurities = tree.tree_.impurity\n",
        "    leaves = np.where(tree.tree_.children_left == tree.tree_.children_right)[0]\n",
        "    if not all(impurities[leaves] == 0):\n",
        "        pure_flag = False\n",
        "        break\n",
        "print(f\"All trees have pure leaves: {pure_flag}\")\n",
        "# I examine each leaf node to ensure that all contained samples\n",
        "# belong to the same category, and results showing the leaf as pure."
      ],
      "metadata": {
        "id": "TIRbd2zd6_1h",
        "colab": {
          "base_uri": "https://localhost:8080/"
        },
        "outputId": "f464df97-1f34-4de3-9f2b-ddce73018feb"
      },
      "execution_count": 12,
      "outputs": [
        {
          "output_type": "stream",
          "name": "stdout",
          "text": [
            "All trees have pure leaves: True\n"
          ]
        }
      ]
    },
    {
      "cell_type": "markdown",
      "source": [
        "**2.3: Assume you want to improve the performance of this model. Also, assume that you had to pick two hyperparameters that you could tune to improve its performance. Which hyperparameters would you choose and why?**"
      ],
      "metadata": {
        "id": "CWK0CAqE7SQh"
      }
    },
    {
      "cell_type": "code",
      "source": [
        "## YOUR SOLUTION HERE\n",
        "\"\"\"\n",
        "I will pick \"n_estimators\" and \"max_depth\" as the two hyperparameters for tuning.\n",
        "\n",
        "The number of trees in the forest is a crucial hyperparameter. A larger number\n",
        "of trees can improve the model's performance and make the model more stable\n",
        "by averaging more decision trees.Cross-validation can be used to find this optimal number of trees.\n",
        "\n",
        "The depth of each tree is also important. Deeper trees can model more\n",
        "complex patterns. Setting a maximum depth can help prevent overfitting as well.\n",
        "\"\"\""
      ],
      "metadata": {
        "id": "Z0tV1hiJ7MCv",
        "colab": {
          "base_uri": "https://localhost:8080/",
          "height": 71
        },
        "outputId": "d0cfedc5-57ea-4105-ecd8-d467a25f3ee1"
      },
      "execution_count": 13,
      "outputs": [
        {
          "output_type": "execute_result",
          "data": {
            "text/plain": [
              "'\\nI will pick \"n_estimators\" and \"max_depth\" as the two hyperparameters for tuning.\\n\\nThe number of trees in the forest is a crucial hyperparameter. A larger number\\nof trees can improve the model\\'s performance and make the model more stable\\nby averaging more decision trees.Cross-validation can be used to find this optimal number of trees.\\n\\nThe depth of each tree is also important. Deeper trees can model more\\ncomplex patterns. Setting a maximum depth can help prevent overfitting as well.\\n'"
            ],
            "application/vnd.google.colaboratory.intrinsic+json": {
              "type": "string"
            }
          },
          "metadata": {},
          "execution_count": 13
        }
      ]
    },
    {
      "cell_type": "markdown",
      "source": [
        "**2.4: Now, assume you had to choose up to 5 different values (each) for these two hyperparameters. How would you choose these values that could potentially give you a performance lift?**"
      ],
      "metadata": {
        "id": "dfYVZUCw7hS7"
      }
    },
    {
      "cell_type": "code",
      "source": [
        "## YOUR SOLUTION HERE\n",
        "n_estimators_list = [10, 50, 100, 200, 300]\n",
        "max_depth_list = [5, 8, 10, 15, 20]\n",
        "\n",
        "\"\"\"\n",
        "For \"n_estimators\", i want to start with a low number 10 to quickly\n",
        "assess the initial performance of the model. Then, increasing the number\n",
        "of trees in larger increments, such as 100, 200, 500, to cover a\n",
        "wide range.\n",
        "Similarly, increasing the maximum depth of a tree from a low number\n",
        "enables it to capture deeper patterns within the data. The increment is\n",
        "not quite large to avoid overfitting\n",
        "\"\"\""
      ],
      "metadata": {
        "id": "5RvUNeRW7l-W",
        "colab": {
          "base_uri": "https://localhost:8080/",
          "height": 71
        },
        "outputId": "683cf0a9-64c9-490a-ad1a-60542f63fff0"
      },
      "execution_count": 14,
      "outputs": [
        {
          "output_type": "execute_result",
          "data": {
            "text/plain": [
              "'\\nFor \"n_estimators\", i want to start with a low number 10 to quickly\\nassess the initial performance of the model. Then, increasing the number\\nof trees in larger increments, such as 100, 200, 500, to cover a\\nwide range.\\nSimilarly, increasing the maximum depth of a tree from a low number\\nenables it to capture deeper patterns within the data. The increment is\\nnot quite large to avoid overfitting\\n'"
            ],
            "application/vnd.google.colaboratory.intrinsic+json": {
              "type": "string"
            }
          },
          "metadata": {},
          "execution_count": 14
        }
      ]
    },
    {
      "cell_type": "markdown",
      "source": [
        "**2.5: Perform model selection using the chosen values for the hyperparameters. Use cross-validation for finding the optimal hyperparameters. Report on the optimal hyperparameters. Estimate the performance of the optimal model (model trained with optimal hyperparameters) on test dataset? Has the performance improved over your plain-vanilla random forest model trained in Q2.1?**"
      ],
      "metadata": {
        "id": "hQa_8Uef7oXA"
      }
    },
    {
      "cell_type": "code",
      "source": [
        "from sklearn.model_selection import GridSearchCV\n",
        "from sklearn.metrics import accuracy_score, f1_score, precision_score, recall_score\n",
        "\n",
        "X_dev, X_test, y_dev, y_test = train_test_split(diabetes_X, diabetes_y, test_size=0.2, stratify=diabetes_y, random_state=10)\n",
        "\n",
        "param_grid = {\n",
        "    'n_estimators': [10, 50, 100, 200, 300],\n",
        "    'max_depth': [5, 8, 10, 15, 20]\n",
        "}\n",
        "\n",
        "random_forest_clf = RandomForestClassifier(random_state=10)\n",
        "grid_search = GridSearchCV(estimator=random_forest_clf, param_grid=param_grid, cv=5, scoring='accuracy')\n",
        "grid_search.fit(X_dev, y_dev)\n",
        "\n",
        "best_params = grid_search.best_params_\n",
        "best_random_forest_clf = RandomForestClassifier(**best_params, random_state=10)\n",
        "best_random_forest_clf.fit(X_dev, y_dev)\n",
        "y_test_pred = best_random_forest_clf.predict(X_test)\n",
        "\n",
        "accuracy = accuracy_score(y_test, y_test_pred)\n",
        "f1 = f1_score(y_test, y_test_pred)\n",
        "precision = precision_score(y_test, y_test_pred)\n",
        "recall = recall_score(y_test, y_test_pred)\n",
        "\n",
        "print(f\"Best Hyperparameters: {best_params}\")\n",
        "print(f\"Test Accuracy: {accuracy}\")\n",
        "print(f\"Test Precision: {precision}\")\n",
        "print(f\"Test Recall: {recall}\")\n",
        "print(f\"Test F1-Score: {f1}\")"
      ],
      "metadata": {
        "id": "Dn8RRB4s7Vqw",
        "colab": {
          "base_uri": "https://localhost:8080/"
        },
        "outputId": "2dc53fcb-e35e-4444-9f76-703ec1319f86"
      },
      "execution_count": 17,
      "outputs": [
        {
          "output_type": "stream",
          "name": "stdout",
          "text": [
            "Best Hyperparameters: {'max_depth': 5, 'n_estimators': 50}\n",
            "Test Accuracy: 0.7987012987012987\n",
            "Test Precision: 0.7555555555555555\n",
            "Test Recall: 0.6296296296296297\n",
            "Test F1-Score: 0.6868686868686867\n"
          ]
        }
      ]
    },
    {
      "cell_type": "code",
      "source": [
        "# Yes, the performance improved over the plain-vanilla random forest model trained in Q2.1."
      ],
      "metadata": {
        "id": "_RzslGT0Oe5h"
      },
      "execution_count": null,
      "outputs": []
    },
    {
      "cell_type": "markdown",
      "source": [
        "**2.6: Can you find the top 3 most important features from the model trained in Q2.5? How do these features compare to the important features that you found from Q1.8? If they differ, which feature set makes more sense?**"
      ],
      "metadata": {
        "id": "7b-pPjmd8AOa"
      }
    },
    {
      "cell_type": "code",
      "source": [
        "## YOUR CODE HERE\n",
        "feature_importances = best_random_forest_clf.feature_importances_\n",
        "sorted_indices = np.argsort(feature_importances)[::-1]\n",
        "\n",
        "plt.figure(figsize=(15, 7))\n",
        "plt.title('Feature Importances')\n",
        "plt.bar(range(len(feature_importances)), feature_importances[sorted_indices], align='center')\n",
        "plt.xticks(range(len(feature_importances)), np.array(diabetes_X.columns)[sorted_indices], rotation=0)\n",
        "plt.tight_layout()\n",
        "plt.show()\n",
        "# No, the top 3 important features remain the same even though the importance\n",
        "# changes slightly for each of them."
      ],
      "metadata": {
        "id": "tmmk3WWV744q",
        "colab": {
          "base_uri": "https://localhost:8080/",
          "height": 671
        },
        "outputId": "3ebfe4b0-2d08-4032-aae7-67d1eb9d5eec"
      },
      "execution_count": 18,
      "outputs": [
        {
          "output_type": "display_data",
          "data": {
            "text/plain": [
              "<Figure size 1500x700 with 1 Axes>"
            ],
            "image/png": "[encoded data removed]"
          },
          "metadata": {}
        }
      ]
    },
    {
      "cell_type": "markdown",
      "source": [
        "## Question 3: Gradient Boosted Trees"
      ],
      "metadata": {
        "id": "HehLS7lW8Q-B"
      }
    },
    {
      "cell_type": "markdown",
      "source": [
        "**3.1: Choose three hyperparameters to tune HistGradientBoostingClassifier on the development dataset using 5-fold cross validation. For each hyperparmeter, give it 3 potential values. Report on the time taken to do model selection for the model. Also, report the performance of the test dataset from the optimal models.**"
      ],
      "metadata": {
        "id": "FNxL7Gq28XGN"
      }
    },
    {
      "cell_type": "code",
      "source": [
        "## YOUR CODE HERE\n",
        "from sklearn.model_selection import GridSearchCV\n",
        "from sklearn.ensemble import HistGradientBoostingClassifier\n",
        "import time\n",
        "\n",
        "hgb_param = {\n",
        "    'learning_rate': [0.01, 0.1, 0.2],\n",
        "    'max_depth': [3, 5, 10],\n",
        "    'min_samples_leaf': [10, 50, 100],\n",
        "}\n",
        "\n",
        "start = time.time()\n",
        "hgb_model = HistGradientBoostingClassifier(random_state=10)\n",
        "grid_search = GridSearchCV(estimator=hgb_model, param_grid=hgb_param, cv=5, scoring='accuracy')\n",
        "grid_search.fit(X_dev, y_dev)\n",
        "end = time.time()\n",
        "\n",
        "best_params = grid_search.best_params_\n",
        "best_score = grid_search.best_score_\n",
        "\n",
        "best_hgb_model = HistGradientBoostingClassifier(**best_params, random_state=42)\n",
        "best_hgb_model.fit(X_dev, y_dev)\n",
        "y_test_pred = best_hgb_model.predict(X_test)\n",
        "\n",
        "accuracy = accuracy_score(y_test, y_test_pred)\n",
        "f1 = f1_score(y_test, y_test_pred)\n",
        "precision = precision_score(y_test, y_test_pred)\n",
        "recall = recall_score(y_test, y_test_pred)\n",
        "\n",
        "print(f\"Best Hyperparameters: {best_params}\")\n",
        "print(f\"Best Cross-validation Score: {best_score}\")\n",
        "print(f\"Test Accuracy: {accuracy}\")\n",
        "print(f\"Test Precision: {precision}\")\n",
        "print(f\"Test Recall: {recall}\")\n",
        "print(f\"Test F1-Score: {f1}\")\n",
        "print(f\"Time taken in seconds: {end-start}\")"
      ],
      "metadata": {
        "id": "RlP0Y4ke8fDL",
        "colab": {
          "base_uri": "https://localhost:8080/"
        },
        "outputId": "6268db70-6c6b-4320-e7e7-cc461759599c"
      },
      "execution_count": 20,
      "outputs": [
        {
          "output_type": "stream",
          "name": "stdout",
          "text": [
            "Best Hyperparameters: {'learning_rate': 0.1, 'max_depth': 10, 'min_samples_leaf': 10}\n",
            "Best Cross-validation Score: 0.7556977209116353\n",
            "Test Accuracy: 0.7792207792207793\n",
            "Test Precision: 0.6612903225806451\n",
            "Test Recall: 0.7592592592592593\n",
            "Test F1-Score: 0.7068965517241378\n",
            "Time taken in seconds: 23.020066499710083\n"
          ]
        }
      ]
    },
    {
      "cell_type": "markdown",
      "source": [
        "**3.2: Train an XGBoost model by tuning 3 hyperparameters using 10 fold cross-validation. Compare the performance of the trained XGBoost model on the test dataset against the performances obtained from 3.1**"
      ],
      "metadata": {
        "id": "tFs84nru8ius"
      }
    },
    {
      "cell_type": "code",
      "source": [
        "## YOUR CODE HERE\n",
        "from sklearn.model_selection import GridSearchCV\n",
        "from xgboost import XGBClassifier\n",
        "import time\n",
        "\n",
        "xgb_param = {\n",
        "    'learning_rate': [0.01, 0.1, 0.2],\n",
        "    'max_depth': [3, 5, 10],\n",
        "    'n_estimators': [10, 50, 100]\n",
        "}\n",
        "\n",
        "start = time.time()\n",
        "xgb_classifier = XGBClassifier(use_label_encoder=False, random_state=10)\n",
        "grid_search = GridSearchCV(estimator=xgb_classifier, param_grid=xgb_param, cv=10, scoring='accuracy')\n",
        "grid_search.fit(X_dev, y_dev)\n",
        "end = time.time()\n",
        "\n",
        "best_params = grid_search.best_params_\n",
        "best_score = grid_search.best_score_\n",
        "\n",
        "best_xgb_classifier = XGBClassifier(**best_params, use_label_encoder=False, random_state=10)\n",
        "best_xgb_classifier.fit(X_dev, y_dev)\n",
        "y_test_pred = best_xgb_classifier.predict(X_test)\n",
        "\n",
        "accuracy = accuracy_score(y_test, y_test_pred)\n",
        "f1 = f1_score(y_test, y_test_pred)\n",
        "precision = precision_score(y_test, y_test_pred)\n",
        "recall = recall_score(y_test, y_test_pred)\n",
        "\n",
        "print(f\"Best Hyperparameters: {best_params}\")\n",
        "print(f\"Best Cross-validation Score: {best_score}\")\n",
        "print(f\"Test Accuracy: {accuracy}\")\n",
        "print(f\"Test Precision: {precision}\")\n",
        "print(f\"Test Recall: {recall}\")\n",
        "print(f\"Test F1-Score: {f1}\")\n",
        "print(f\"Time taken in seconds: {end-start}\")"
      ],
      "metadata": {
        "id": "ktepV1Bt8KFi",
        "colab": {
          "base_uri": "https://localhost:8080/"
        },
        "outputId": "ca199399-97d0-4cca-c1c1-0d435bda55c5"
      },
      "execution_count": 22,
      "outputs": [
        {
          "output_type": "stream",
          "name": "stdout",
          "text": [
            "Best Hyperparameters: {'learning_rate': 0.2, 'max_depth': 3, 'n_estimators': 10}\n",
            "Best Cross-validation Score: 0.7607350608143839\n",
            "Test Accuracy: 0.7987012987012987\n",
            "Test Precision: 0.7254901960784313\n",
            "Test Recall: 0.6851851851851852\n",
            "Test F1-Score: 0.7047619047619048\n",
            "Time taken in seconds: 20.732645273208618\n"
          ]
        }
      ]
    },
    {
      "cell_type": "code",
      "source": [
        "# It turns out XGBoost model has a slightly higher performance than the\n",
        "# HistGradientBoosting model, especially on the precision part. The computational\n",
        "# cost is similar."
      ],
      "metadata": {
        "id": "8CyKWCvzVwBv"
      },
      "execution_count": null,
      "outputs": []
    },
    {
      "cell_type": "markdown",
      "source": [
        "**3.3: Can you list the top 3 features from the trained XGBoost model? How do they differ from the features found from Random Forest and Decision Tree? Which one would you trust the most?**"
      ],
      "metadata": {
        "id": "ZBzc4Mcx9IBT"
      }
    },
    {
      "cell_type": "code",
      "source": [
        "## YOUR CODE HERE\n",
        "feature_importances = best_xgb_classifier.feature_importances_\n",
        "sorted_indices = np.argsort(feature_importances)[::-1]\n",
        "\n",
        "plt.figure(figsize=(15, 7))\n",
        "plt.title('Feature Importances')\n",
        "plt.bar(range(len(feature_importances)), feature_importances[sorted_indices], align='center')\n",
        "plt.xticks(range(len(feature_importances)), np.array(diabetes_X.columns)[sorted_indices], rotation=0)\n",
        "plt.tight_layout()\n",
        "plt.show()\n",
        "\n",
        "# Now the top 3 features change to \"Glucose\", \"Pregnancies\", and \"Age\".\n",
        "# \"BMI\" obtained form random forest is replaced by \"Pregnancies\". I would\n",
        "# trust the results from random forest since the precision score is higher."
      ],
      "metadata": {
        "id": "Q7dZGZpY9J8B",
        "colab": {
          "base_uri": "https://localhost:8080/",
          "height": 671
        },
        "outputId": "a63749b9-01bd-4822-f5ce-b2e7128278fa"
      },
      "execution_count": 23,
      "outputs": [
        {
          "output_type": "display_data",
          "data": {
            "text/plain": [
              "<Figure size 1500x700 with 1 Axes>"
            ],
            "image/png": "[encoded data removed]"
          },
          "metadata": {}
        }
      ]
    },
    {
      "cell_type": "markdown",
      "source": [
        " **3.4 Can you choose the top 7 features (as given by feature importances from XGBoost) and repeat Q3.2? Does this model perform better than the one trained in Q3.2? Why or why not is the performance better?**"
      ],
      "metadata": {
        "id": "DvJwLfIS8sTi"
      }
    },
    {
      "cell_type": "code",
      "source": [
        "## YOUR CODE HERE\n",
        "feature_names = X_dev.columns\n",
        "feature_importance_tuples = [(feature, importance) for feature, importance in zip(feature_names, feature_importances)]\n",
        "feature_importance_tuples.sort(key=lambda x: x[1], reverse=True)\n",
        "top_7 = [feature for feature, _ in feature_importance_tuples[:7]]\n",
        "print(top_7)\n",
        "\n",
        "X_new_dev = X_dev[top_7]\n",
        "X_new_test = X_test[top_7]\n",
        "\n",
        "xgb_param = {\n",
        "    'learning_rate': [0.01, 0.1, 0.2],\n",
        "    'max_depth': [3, 5, 10],\n",
        "    'n_estimators': [10, 50, 100]\n",
        "}\n",
        "\n",
        "start = time.time()\n",
        "xgb_classifier = XGBClassifier(use_label_encoder=False, random_state=10)\n",
        "grid_search = GridSearchCV(estimator=xgb_classifier, param_grid=xgb_param, cv=10, scoring='accuracy')\n",
        "grid_search.fit(X_new_dev, y_dev)\n",
        "end = time.time()\n",
        "\n",
        "best_params = grid_search.best_params_\n",
        "best_score = grid_search.best_score_\n",
        "\n",
        "best_xgb_classifier = XGBClassifier(**best_params, use_label_encoder=False, random_state=10)\n",
        "best_xgb_classifier.fit(X_new_dev, y_dev)\n",
        "y_test_pred = best_xgb_classifier.predict(X_new_test)\n",
        "\n",
        "accuracy = accuracy_score(y_test, y_test_pred)\n",
        "f1 = f1_score(y_test, y_test_pred)\n",
        "precision = precision_score(y_test, y_test_pred)\n",
        "recall = recall_score(y_test, y_test_pred)\n",
        "\n",
        "print(f\"Best Hyperparameters: {best_params}\")\n",
        "print(f\"Best Cross-validation Score: {best_score}\")\n",
        "print(f\"Test Accuracy: {accuracy}\")\n",
        "print(f\"Test Precision: {precision}\")\n",
        "print(f\"Test Recall: {recall}\")\n",
        "print(f\"Test F1-Score: {f1}\")\n",
        "print(f\"Time taken in seconds: {end-start}\")"
      ],
      "metadata": {
        "id": "zium-SOj8lhS",
        "colab": {
          "base_uri": "https://localhost:8080/"
        },
        "outputId": "abbd401a-53a8-4ff3-d50e-bca0da170838"
      },
      "execution_count": 28,
      "outputs": [
        {
          "output_type": "stream",
          "name": "stdout",
          "text": [
            "['Glucose', 'Pregnancies', 'Age', 'BMI', 'DiabetesPedigreeFunction', 'BloodPressure', 'Insulin']\n",
            "Best Hyperparameters: {'learning_rate': 0.2, 'max_depth': 3, 'n_estimators': 50}\n",
            "Best Cross-validation Score: 0.7672395557905869\n",
            "Test Accuracy: 0.7987012987012987\n",
            "Test Precision: 0.7090909090909091\n",
            "Test Recall: 0.7222222222222222\n",
            "Test F1-Score: 0.7155963302752293\n",
            "Time taken in seconds: 25.853966236114502\n"
          ]
        }
      ]
    },
    {
      "cell_type": "code",
      "source": [
        "# The accuracy remains nearly unchanged compared to the previous\n",
        "# results, and this not supprising since the model complexity does not\n",
        "# change much. However, the precision of the new model decreases\n",
        "# a little bit, which can be attributed to the information loss\n",
        "# after dropping some features."
      ],
      "metadata": {
        "id": "3u7wawXhZ1yt"
      },
      "execution_count": 29,
      "outputs": []
    }
  ]
}